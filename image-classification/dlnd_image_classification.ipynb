{
 "cells": [
  {
   "cell_type": "markdown",
   "metadata": {
    "collapsed": true
   },
   "source": [
    "# Image Classification\n",
    "In this project, you'll classify images from the [CIFAR-10 dataset](https://www.cs.toronto.edu/~kriz/cifar.html).  The dataset consists of airplanes, dogs, cats, and other objects. You'll preprocess the images, then train a convolutional neural network on all the samples. The images need to be normalized and the labels need to be one-hot encoded.  You'll get to apply what you learned and build a convolutional, max pooling, dropout, and fully connected layers.  At the end, you'll get to see your neural network's predictions on the sample images.\n",
    "## Get the Data\n",
    "Run the following cell to download the [CIFAR-10 dataset for python](https://www.cs.toronto.edu/~kriz/cifar-10-python.tar.gz)."
   ]
  },
  {
   "cell_type": "code",
   "execution_count": 25,
   "metadata": {},
   "outputs": [
    {
     "name": "stdout",
     "output_type": "stream",
     "text": [
      "All files found!\n"
     ]
    }
   ],
   "source": [
    "\"\"\"\n",
    "DON'T MODIFY ANYTHING IN THIS CELL THAT IS BELOW THIS LINE\n",
    "\"\"\"\n",
    "from urllib.request import urlretrieve\n",
    "from os.path import isfile, isdir\n",
    "from tqdm import tqdm\n",
    "import problem_unittests as tests\n",
    "import tarfile\n",
    "\n",
    "cifar10_dataset_folder_path = 'cifar-10-batches-py'\n",
    "\n",
    "# Use Floyd's cifar-10 dataset if present\n",
    "floyd_cifar10_location = '/input/cifar-10/python.tar.gz'\n",
    "if isfile(floyd_cifar10_location):\n",
    "    tar_gz_path = floyd_cifar10_location\n",
    "else:\n",
    "    tar_gz_path = 'cifar-10-python.tar.gz'\n",
    "\n",
    "class DLProgress(tqdm):\n",
    "    last_block = 0\n",
    "\n",
    "    def hook(self, block_num=1, block_size=1, total_size=None):\n",
    "        self.total = total_size\n",
    "        self.update((block_num - self.last_block) * block_size)\n",
    "        self.last_block = block_num\n",
    "\n",
    "if not isfile(tar_gz_path):\n",
    "    with DLProgress(unit='B', unit_scale=True, miniters=1, desc='CIFAR-10 Dataset') as pbar:\n",
    "        urlretrieve(\n",
    "            'https://www.cs.toronto.edu/~kriz/cifar-10-python.tar.gz',\n",
    "            tar_gz_path,\n",
    "            pbar.hook)\n",
    "\n",
    "if not isdir(cifar10_dataset_folder_path):\n",
    "    with tarfile.open(tar_gz_path) as tar:\n",
    "        tar.extractall()\n",
    "        tar.close()\n",
    "\n",
    "\n",
    "tests.test_folder_path(cifar10_dataset_folder_path)"
   ]
  },
  {
   "cell_type": "markdown",
   "metadata": {},
   "source": [
    "## Explore the Data\n",
    "The dataset is broken into batches to prevent your machine from running out of memory.  The CIFAR-10 dataset consists of 5 batches, named `data_batch_1`, `data_batch_2`, etc.. Each batch contains the labels and images that are one of the following:\n",
    "* airplane\n",
    "* automobile\n",
    "* bird\n",
    "* cat\n",
    "* deer\n",
    "* dog\n",
    "* frog\n",
    "* horse\n",
    "* ship\n",
    "* truck\n",
    "\n",
    "Understanding a dataset is part of making predictions on the data.  Play around with the code cell below by changing the `batch_id` and `sample_id`. The `batch_id` is the id for a batch (1-5). The `sample_id` is the id for a image and label pair in the batch.\n",
    "\n",
    "Ask yourself \"What are all possible labels?\", \"What is the range of values for the image data?\", \"Are the labels in order or random?\".  Answers to questions like these will help you preprocess the data and end up with better predictions."
   ]
  },
  {
   "cell_type": "code",
   "execution_count": 26,
   "metadata": {},
   "outputs": [
    {
     "name": "stdout",
     "output_type": "stream",
     "text": [
      "\n",
      "Stats of batch 1:\n",
      "Samples: 10000\n",
      "Label Counts: {0: 1005, 1: 974, 2: 1032, 3: 1016, 4: 999, 5: 937, 6: 1030, 7: 1001, 8: 1025, 9: 981}\n",
      "First 20 Labels: [6, 9, 9, 4, 1, 1, 2, 7, 8, 3, 4, 7, 7, 2, 9, 9, 9, 3, 2, 6]\n",
      "\n",
      "Example of Image 8:\n",
      "Image - Min Value: 8 Max Value: 252\n",
      "Image - Shape: (32, 32, 3)\n",
      "Label - Label Id: 8 Name: ship\n"
     ]
    },
    {
     "data": {
      "image/png": "[encoded data removed]",
      "text/plain": [
       "<matplotlib.figure.Figure at 0x118d8ba20>"
      ]
     },
     "metadata": {
      "image/png": {
       "height": 250,
       "width": 253
      }
     },
     "output_type": "display_data"
    }
   ],
   "source": [
    "%matplotlib inline\n",
    "%config InlineBackend.figure_format = 'retina'\n",
    "\n",
    "import helper\n",
    "import numpy as np\n",
    "\n",
    "# Explore the dataset\n",
    "batch_id = 1\n",
    "sample_id = 8\n",
    "helper.display_stats(cifar10_dataset_folder_path, batch_id, sample_id)"
   ]
  },
  {
   "cell_type": "markdown",
   "metadata": {},
   "source": [
    "## Implement Preprocess Functions\n",
    "### Normalize\n",
    "In the cell below, implement the `normalize` function to take in image data, `x`, and return it as a normalized Numpy array. The values should be in the range of 0 to 1, inclusive.  The return object should be the same shape as `x`."
   ]
  },
  {
   "cell_type": "code",
   "execution_count": 288,
   "metadata": {},
   "outputs": [
    {
     "name": "stdout",
     "output_type": "stream",
     "text": [
      "Tests Passed\n"
     ]
    }
   ],
   "source": [
    "def normalize(x):\n",
    "    \"\"\"\n",
    "    Normalize a list of sample image data in the range of 0 to 1\n",
    "    : x: List of image data.  The image shape is (32, 32, 3)\n",
    "    : return: Numpy array of normalize data\n",
    "    \"\"\"\n",
    "    x = x/255.0\n",
    "    # TODO: Implement Function\n",
    "    return x\n",
    "\n",
    "\n",
    "\"\"\"\n",
    "DON'T MODIFY ANYTHING IN THIS CELL THAT IS BELOW THIS LINE\n",
    "\"\"\"\n",
    "tests.test_normalize(normalize)"
   ]
  },
  {
   "cell_type": "markdown",
   "metadata": {},
   "source": [
    "### One-hot encode\n",
    "Just like the previous code cell, you'll be implementing a function for preprocessing.  This time, you'll implement the `one_hot_encode` function. The input, `x`, are a list of labels.  Implement the function to return the list of labels as One-Hot encoded Numpy array.  The possible values for labels are 0 to 9. The one-hot encoding function should return the same encoding for each value between each call to `one_hot_encode`.  Make sure to save the map of encodings outside the function.\n",
    "\n",
    "Hint: Don't reinvent the wheel."
   ]
  },
  {
   "cell_type": "code",
   "execution_count": 290,
   "metadata": {},
   "outputs": [
    {
     "name": "stdout",
     "output_type": "stream",
     "text": [
      "Tests Passed\n"
     ]
    }
   ],
   "source": [
    "def one_hot_encode(x):\n",
    "    \"\"\"\n",
    "    One hot encode a list of sample labels. Return a one-hot encoded vector for each label.\n",
    "    : x: List of sample Labels\n",
    "    : return: Numpy array of one-hot encoded labels\n",
    "    \"\"\"\n",
    "    y = np.zeros((len(x), 10))\n",
    "    for i,j in enumerate(x):\n",
    "        y[i][j] = 1\n",
    "    return y.astype(int)\n",
    "\n",
    "\n",
    "\"\"\"\n",
    "DON'T MODIFY ANYTHING IN THIS CELL THAT IS BELOW THIS LINE\n",
    "\"\"\"\n",
    "tests.test_one_hot_encode(one_hot_encode)"
   ]
  },
  {
   "cell_type": "markdown",
   "metadata": {},
   "source": [
    "### Randomize Data\n",
    "As you saw from exploring the data above, the order of the samples are randomized.  It doesn't hurt to randomize it again, but you don't need to for this dataset."
   ]
  },
  {
   "cell_type": "markdown",
   "metadata": {},
   "source": [
    "## Preprocess all the data and save it\n",
    "Running the code cell below will preprocess all the CIFAR-10 data and save it to file. The code below also uses 10% of the training data for validation."
   ]
  },
  {
   "cell_type": "code",
   "execution_count": 292,
   "metadata": {
    "collapsed": true
   },
   "outputs": [],
   "source": [
    "\"\"\"\n",
    "DON'T MODIFY ANYTHING IN THIS CELL\n",
    "\"\"\"\n",
    "# Preprocess Training, Validation, and Testing Data\n",
    "helper.preprocess_and_save_data(cifar10_dataset_folder_path, normalize, one_hot_encode)"
   ]
  },
  {
   "cell_type": "markdown",
   "metadata": {},
   "source": [
    "# Check Point\n",
    "This is your first checkpoint.  If you ever decide to come back to this notebook or have to restart the notebook, you can start from here.  The preprocessed data has been saved to disk."
   ]
  },
  {
   "cell_type": "code",
   "execution_count": 293,
   "metadata": {
    "collapsed": true
   },
   "outputs": [],
   "source": [
    "\"\"\"\n",
    "DON'T MODIFY ANYTHING IN THIS CELL\n",
    "\"\"\"\n",
    "import pickle\n",
    "import problem_unittests as tests\n",
    "import helper\n",
    "\n",
    "# Load the Preprocessed Validation data\n",
    "valid_features, valid_labels = pickle.load(open('preprocess_validation.p', mode='rb'))"
   ]
  },
  {
   "cell_type": "markdown",
   "metadata": {},
   "source": [
    "## Build the network\n",
    "For the neural network, you'll build each layer into a function.  Most of the code you've seen has been outside of functions. To test your code more thoroughly, we require that you put each layer in a function.  This allows us to give you better feedback and test for simple mistakes using our unittests before you submit your project.\n",
    "\n",
    ">**Note:** If you're finding it hard to dedicate enough time for this course each week, we've provided a small shortcut to this part of the project. In the next couple of problems, you'll have the option to use classes from the [TensorFlow Layers](https://www.tensorflow.org/api_docs/python/tf/layers) or [TensorFlow Layers (contrib)](https://www.tensorflow.org/api_guides/python/contrib.layers) packages to build each layer, except the layers you build in the \"Convolutional and Max Pooling Layer\" section.  TF Layers is similar to Keras's and TFLearn's abstraction to layers, so it's easy to pickup.\n",
    "\n",
    ">However, if you would like to get the most out of this course, try to solve all the problems _without_ using anything from the TF Layers packages. You **can** still use classes from other packages that happen to have the same name as ones you find in TF Layers! For example, instead of using the TF Layers version of the `conv2d` class, [tf.layers.conv2d](https://www.tensorflow.org/api_docs/python/tf/layers/conv2d), you would want to use the TF Neural Network version of `conv2d`, [tf.nn.conv2d](https://www.tensorflow.org/api_docs/python/tf/nn/conv2d). \n",
    "\n",
    "Let's begin!\n",
    "\n",
    "### Input\n",
    "The neural network needs to read the image data, one-hot encoded labels, and dropout keep probability. Implement the following functions\n",
    "* Implement `neural_net_image_input`\n",
    " * Return a [TF Placeholder](https://www.tensorflow.org/api_docs/python/tf/placeholder)\n",
    " * Set the shape using `image_shape` with batch size set to `None`.\n",
    " * Name the TensorFlow placeholder \"x\" using the TensorFlow `name` parameter in the [TF Placeholder](https://www.tensorflow.org/api_docs/python/tf/placeholder).\n",
    "* Implement `neural_net_label_input`\n",
    " * Return a [TF Placeholder](https://www.tensorflow.org/api_docs/python/tf/placeholder)\n",
    " * Set the shape using `n_classes` with batch size set to `None`.\n",
    " * Name the TensorFlow placeholder \"y\" using the TensorFlow `name` parameter in the [TF Placeholder](https://www.tensorflow.org/api_docs/python/tf/placeholder).\n",
    "* Implement `neural_net_keep_prob_input`\n",
    " * Return a [TF Placeholder](https://www.tensorflow.org/api_docs/python/tf/placeholder) for dropout keep probability.\n",
    " * Name the TensorFlow placeholder \"keep_prob\" using the TensorFlow `name` parameter in the [TF Placeholder](https://www.tensorflow.org/api_docs/python/tf/placeholder).\n",
    "\n",
    "These names will be used at the end of the project to load your saved model.\n",
    "\n",
    "Note: `None` for shapes in TensorFlow allow for a dynamic size."
   ]
  },
  {
   "cell_type": "code",
   "execution_count": 294,
   "metadata": {},
   "outputs": [
    {
     "name": "stdout",
     "output_type": "stream",
     "text": [
      "Image Input Tests Passed.\n",
      "Label Input Tests Passed.\n",
      "Keep Prob Tests Passed.\n"
     ]
    }
   ],
   "source": [
    "import tensorflow as tf\n",
    "\n",
    "def neural_net_image_input(image_shape):\n",
    "    \"\"\"\n",
    "    Return a Tensor for a batch of image input\n",
    "    : image_shape: Shape of the images\n",
    "    : return: Tensor for image input.\n",
    "    \"\"\"\n",
    "    return tf.placeholder(tf.float32, shape = (None,) + image_shape, name=\"x\")\n",
    "\n",
    "\n",
    "def neural_net_label_input(n_classes):\n",
    "    \"\"\"\n",
    "    Return a Tensor for a batch of label input\n",
    "    : n_classes: Number of classes\n",
    "    : return: Tensor for label input.\n",
    "    \"\"\"\n",
    "    # TODO: Implement Function\n",
    "    return tf.placeholder(tf.float32, shape = (None, n_classes), name=\"y\")\n",
    "\n",
    "def neural_net_keep_prob_input():\n",
    "    \"\"\"\n",
    "    Return a Tensor for keep probability\n",
    "    : return: Tensor for keep probability.\n",
    "    \"\"\"\n",
    "    return tf.placeholder(tf.float32, name=\"keep_prob\")\n",
    "\n",
    "\"\"\"\n",
    "DON'T MODIFY ANYTHING IN THIS CELL THAT IS BELOW THIS LINE\n",
    "\"\"\"\n",
    "tf.reset_default_graph()\n",
    "tests.test_nn_image_inputs(neural_net_image_input)\n",
    "tests.test_nn_label_inputs(neural_net_label_input)\n",
    "tests.test_nn_keep_prob_inputs(neural_net_keep_prob_input)"
   ]
  },
  {
   "cell_type": "markdown",
   "metadata": {},
   "source": [
    "### Convolution and Max Pooling Layer\n",
    "Convolution layers have a lot of success with images. For this code cell, you should implement the function `conv2d_maxpool` to apply convolution then max pooling:\n",
    "* Create the weight and bias using `conv_ksize`, `conv_num_outputs` and the shape of `x_tensor`.\n",
    "* Apply a convolution to `x_tensor` using weight and `conv_strides`.\n",
    " * We recommend you use same padding, but you're welcome to use any padding.\n",
    "* Add bias\n",
    "* Add a nonlinear activation to the convolution.\n",
    "* Apply Max Pooling using `pool_ksize` and `pool_strides`.\n",
    " * We recommend you use same padding, but you're welcome to use any padding.\n",
    "\n",
    "**Note:** You **can't** use [TensorFlow Layers](https://www.tensorflow.org/api_docs/python/tf/layers) or [TensorFlow Layers (contrib)](https://www.tensorflow.org/api_guides/python/contrib.layers) for **this** layer, but you can still use TensorFlow's [Neural Network](https://www.tensorflow.org/api_docs/python/tf/nn) package. You may still use the shortcut option for all the **other** layers."
   ]
  },
  {
   "cell_type": "code",
   "execution_count": 299,
   "metadata": {},
   "outputs": [
    {
     "name": "stdout",
     "output_type": "stream",
     "text": [
      "Tests Passed\n"
     ]
    }
   ],
   "source": [
    "def conv2d_maxpool(x_tensor, conv_num_outputs, conv_ksize, conv_strides, pool_ksize, pool_strides):\n",
    "    \"\"\"\n",
    "    Apply convolution then max pooling to x_tensor\n",
    "    :param x_tensor: TensorFlow Tensor\n",
    "    :param conv_num_outputs: Number of outputs for the convolutional layer\n",
    "    :param conv_ksize: kernal size 2-D Tuple for the convolutional layer\n",
    "    :param conv_strides: Stride 2-D Tuple for convolution\n",
    "    :param pool_ksize: kernal size 2-D Tuple for pool\n",
    "    :param pool_strides: Stride 2-D Tuple for pool\n",
    "    : return: A tensor that represents convolution and max pooling of x_tensor\n",
    "    \"\"\"\n",
    "    \n",
    "    w = tf.Variable(tf.truncated_normal([conv_ksize[0], conv_ksize[1], int(x_tensor.shape[3]), conv_num_outputs], stddev = 0.1))\n",
    "    b = tf.Variable(tf.zeros(conv_num_outputs, tf.float32))\n",
    "    conv = tf.nn.conv2d(x_tensor, w, [1, conv_strides[0], conv_strides[1], 1], padding='SAME')\n",
    "    conv = conv + b\n",
    "    conv = tf.nn.relu(conv)\n",
    "    \n",
    "    output = tf.nn.max_pool(conv, [1, pool_ksize[0], pool_ksize[1], 1], [1, pool_strides[0], pool_strides[1], 1], padding='SAME')\n",
    "    return output\n",
    "\n",
    "\"\"\"\n",
    "DON'T MODIFY ANYTHING IN THIS CELL THAT IS BELOW THIS LINE\n",
    "\"\"\"\n",
    "tests.test_con_pool(conv2d_maxpool)"
   ]
  },
  {
   "cell_type": "markdown",
   "metadata": {},
   "source": [
    "### Flatten Layer\n",
    "Implement the `flatten` function to change the dimension of `x_tensor` from a 4-D tensor to a 2-D tensor.  The output should be the shape (*Batch Size*, *Flattened Image Size*). Shortcut option: you can use classes from the [TensorFlow Layers](https://www.tensorflow.org/api_docs/python/tf/layers) or [TensorFlow Layers (contrib)](https://www.tensorflow.org/api_guides/python/contrib.layers) packages for this layer. For more of a challenge, only use other TensorFlow packages."
   ]
  },
  {
   "cell_type": "code",
   "execution_count": 300,
   "metadata": {},
   "outputs": [
    {
     "name": "stdout",
     "output_type": "stream",
     "text": [
      "Tests Passed\n"
     ]
    }
   ],
   "source": [
    "def flatten(x_tensor):\n",
    "    \"\"\"\n",
    "    Flatten x_tensor to (Batch Size, Flattened Image Size)\n",
    "    : x_tensor: A tensor of size (Batch Size, ...), where ... are the image dimensions.\n",
    "    : return: A tensor of size (Batch Size, Flattened Image Size).\n",
    "    \"\"\"\n",
    "    # TODO: Implement Function\n",
    "    return tf.contrib.layers.flatten(x_tensor)\n",
    "\"\"\"\n",
    "DON'T MODIFY ANYTHING IN THIS CELL THAT IS BELOW THIS LINE\n",
    "\"\"\"\n",
    "tests.test_flatten(flatten)"
   ]
  },
  {
   "cell_type": "markdown",
   "metadata": {},
   "source": [
    "### Fully-Connected Layer\n",
    "Implement the `fully_conn` function to apply a fully connected layer to `x_tensor` with the shape (*Batch Size*, *num_outputs*). Shortcut option: you can use classes from the [TensorFlow Layers](https://www.tensorflow.org/api_docs/python/tf/layers) or [TensorFlow Layers (contrib)](https://www.tensorflow.org/api_guides/python/contrib.layers) packages for this layer. For more of a challenge, only use other TensorFlow packages."
   ]
  },
  {
   "cell_type": "code",
   "execution_count": 301,
   "metadata": {},
   "outputs": [
    {
     "name": "stdout",
     "output_type": "stream",
     "text": [
      "Tests Passed\n"
     ]
    }
   ],
   "source": [
    "def fully_conn(x_tensor, num_outputs):\n",
    "    \"\"\"\n",
    "    Apply a fully connected layer to x_tensor using weight and bias\n",
    "    : x_tensor: A 2-D tensor where the first dimension is batch size.\n",
    "    : num_outputs: The number of output that the new tensor should be.\n",
    "    : return: A 2-D tensor where the second dimension is num_outputs.\n",
    "    \"\"\"\n",
    "    weights = tf.Variable(tf.truncated_normal([int(x_tensor.shape[1]), num_outputs], stddev = 0.1))\n",
    "    bias = tf.Variable(tf.zeros(num_outputs, tf.float32))\n",
    "    hidden = tf.matmul(x_tensor, weights) + bias\n",
    "    hidden = tf.nn.relu(hidden)\n",
    "    return hidden\n",
    "\n",
    "\"\"\"\n",
    "DON'T MODIFY ANYTHING IN THIS CELL THAT IS BELOW THIS LINE\n",
    "\"\"\"\n",
    "tests.test_fully_conn(fully_conn)"
   ]
  },
  {
   "cell_type": "markdown",
   "metadata": {},
   "source": [
    "### Output Layer\n",
    "Implement the `output` function to apply a fully connected layer to `x_tensor` with the shape (*Batch Size*, *num_outputs*). Shortcut option: you can use classes from the [TensorFlow Layers](https://www.tensorflow.org/api_docs/python/tf/layers) or [TensorFlow Layers (contrib)](https://www.tensorflow.org/api_guides/python/contrib.layers) packages for this layer. For more of a challenge, only use other TensorFlow packages.\n",
    "\n",
    "**Note:** Activation, softmax, or cross entropy should **not** be applied to this."
   ]
  },
  {
   "cell_type": "code",
   "execution_count": 302,
   "metadata": {},
   "outputs": [
    {
     "name": "stdout",
     "output_type": "stream",
     "text": [
      "Tests Passed\n"
     ]
    }
   ],
   "source": [
    "def output(x_tensor, num_outputs):\n",
    "    \"\"\"\n",
    "    Apply a output layer to x_tensor using weight and bias\n",
    "    : x_tensor: A 2-D tensor where the first dimension is batch size.\n",
    "    : num_outputs: The number of output that the new tensor should be.\n",
    "    : return: A 2-D tensor where the second dimension is num_outputs.\n",
    "    \"\"\"\n",
    "    weights = tf.Variable(tf.random_normal([x_tensor.shape[1].value, num_outputs], stddev = 0.1))\n",
    "    bias = tf.Variable(tf.zeros(num_outputs, tf.float32))\n",
    "    output = tf.matmul(x_tensor, weights) + bias\n",
    "    return output \n",
    "\n",
    "\n",
    "\"\"\"\n",
    "DON'T MODIFY ANYTHING IN THIS CELL THAT IS BELOW THIS LINE\n",
    "\"\"\"\n",
    "tests.test_output(output)"
   ]
  },
  {
   "cell_type": "markdown",
   "metadata": {},
   "source": [
    "### Create Convolutional Model\n",
    "Implement the function `conv_net` to create a convolutional neural network model. The function takes in a batch of images, `x`, and outputs logits.  Use the layers you created above to create this model:\n",
    "\n",
    "* Apply 1, 2, or 3 Convolution and Max Pool layers\n",
    "* Apply a Flatten Layer\n",
    "* Apply 1, 2, or 3 Fully Connected Layers\n",
    "* Apply an Output Layer\n",
    "* Return the output\n",
    "* Apply [TensorFlow's Dropout](https://www.tensorflow.org/api_docs/python/tf/nn/dropout) to one or more layers in the model using `keep_prob`. "
   ]
  },
  {
   "cell_type": "code",
   "execution_count": 319,
   "metadata": {},
   "outputs": [
    {
     "name": "stdout",
     "output_type": "stream",
     "text": [
      "Neural Network Built!\n"
     ]
    }
   ],
   "source": [
    "def conv_net(x, keep_prob):\n",
    "    \"\"\"\n",
    "    Create a convolutional neural network model\n",
    "    : x: Placeholder tensor that holds image data.\n",
    "    : keep_prob: Placeholder tensor that hold dropout keep probability.\n",
    "    : return: Tensor that represents logits\n",
    "    \"\"\"\n",
    "    # Apply 1, 2, or 3 Convolution and Max Pool layers\n",
    "    #    Play around with different number of outputs, kernel size and stride\n",
    "\n",
    "    x = conv2d_maxpool(x, 8, (4, 4), (1, 1), (2, 2), (2, 2))\n",
    "    x = conv2d_maxpool(x, 16, (4, 4), (1, 1), (2, 2), (2, 2))\n",
    "\n",
    "    # Apply a Flatten Layer\n",
    "    x = flatten(x)\n",
    "    \n",
    "    # Apply 1, 2, or 3 Fully Connected Layers    \n",
    "    x = tf.nn.dropout(x, keep_prob)\n",
    "    x = fully_conn(x, 256)\n",
    "    x = tf.nn.dropout(x, keep_prob)\n",
    "    x = fully_conn(x, 64)\n",
    "\n",
    "    \n",
    "    # Apply an Output Layer\n",
    "    #    Set this to the number of classes\n",
    "    # Function Definition from Above:\n",
    "    #   output(x_tensor, num_outputs)\n",
    "    x = output(x, 10)\n",
    "    \n",
    "    # TODO: return output\n",
    "    return x\n",
    "\n",
    "\n",
    "\n",
    "\"\"\"\n",
    "DON'T MODIFY ANYTHING IN THIS CELL THAT IS BELOW THIS LINE\n",
    "\"\"\"\n",
    "\n",
    "##############################\n",
    "## Build the Neural Network ##\n",
    "##############################\n",
    "\n",
    "# Remove previous weights, bias, inputs, etc..\n",
    "tf.reset_default_graph()\n",
    "\n",
    "# Inputs\n",
    "x = neural_net_image_input((32, 32, 3))\n",
    "y = neural_net_label_input(10)\n",
    "keep_prob = neural_net_keep_prob_input()\n",
    "\n",
    "# Model\n",
    "logits = conv_net(x, keep_prob)\n",
    "\n",
    "# Name logits Tensor, so that is can be loaded from disk after training\n",
    "logits = tf.identity(logits, name='logits')\n",
    "\n",
    "# Loss and Optimizer\n",
    "cost = tf.reduce_mean(tf.nn.softmax_cross_entropy_with_logits(logits=logits, labels=y))\n",
    "optimizer = tf.train.AdamOptimizer().minimize(cost)\n",
    "\n",
    "#temp1\n",
    "\n",
    "# Accuracy\n",
    "correct_pred = tf.equal(tf.argmax(logits, 1), tf.argmax(y, 1))\n",
    "accuracy = tf.reduce_mean(tf.cast(correct_pred, tf.float32), name='accuracy')\n",
    "\n",
    "\n",
    "tests.test_conv_net(conv_net)"
   ]
  },
  {
   "cell_type": "markdown",
   "metadata": {},
   "source": [
    "## Train the Neural Network\n",
    "### Single Optimization\n",
    "Implement the function `train_neural_network` to do a single optimization.  The optimization should use `optimizer` to optimize in `session` with a `feed_dict` of the following:\n",
    "* `x` for image input\n",
    "* `y` for labels\n",
    "* `keep_prob` for keep probability for dropout\n",
    "\n",
    "This function will be called for each batch, so `tf.global_variables_initializer()` has already been called.\n",
    "\n",
    "Note: Nothing needs to be returned. This function is only optimizing the neural network."
   ]
  },
  {
   "cell_type": "code",
   "execution_count": 320,
   "metadata": {},
   "outputs": [
    {
     "name": "stdout",
     "output_type": "stream",
     "text": [
      "Tests Passed\n"
     ]
    }
   ],
   "source": [
    "def train_neural_network(session, optimizer, keep_probability, feature_batch, label_batch):\n",
    "    \"\"\"\n",
    "    Optimize the session on a batch of images and labels\n",
    "    : session: Current TensorFlow session\n",
    "    : optimizer: TensorFlow optimizer function\n",
    "    : keep_probability: keep probability\n",
    "    : feature_batch: Batch of Numpy image data\n",
    "    : label_batch: Batch of Numpy label data\n",
    "    \"\"\"\n",
    "    # TODO: Implement Function\n",
    "    session.run(optimizer,\n",
    "            feed_dict={x: feature_batch, y: label_batch, keep_prob: keep_probability})\n",
    "    \n",
    "\n",
    "\n",
    "\"\"\"\n",
    "DON'T MODIFY ANYTHING IN THIS CELL THAT IS BELOW THIS LINE\n",
    "\"\"\"\n",
    "tests.test_train_nn(train_neural_network)"
   ]
  },
  {
   "cell_type": "markdown",
   "metadata": {},
   "source": [
    "### Show Stats\n",
    "Implement the function `print_stats` to print loss and validation accuracy.  Use the global variables `valid_features` and `valid_labels` to calculate validation accuracy.  Use a keep probability of `1.0` to calculate the loss and validation accuracy."
   ]
  },
  {
   "cell_type": "code",
   "execution_count": 321,
   "metadata": {
    "collapsed": true
   },
   "outputs": [],
   "source": [
    "def print_stats(session, feature_batch, label_batch, cost, accuracy):\n",
    "    \"\"\"\n",
    "    Print information about loss and validation accuracy\n",
    "    : session: Current TensorFlow session\n",
    "    : feature_batch: Batch of Numpy image data\n",
    "    : label_batch: Batch of Numpy label data\n",
    "    : cost: TensorFlow cost function\n",
    "    : accuracy: TensorFlow accuracy function\n",
    "    \"\"\"\n",
    "    \n",
    "    c1 = session.run(\n",
    "                cost,\n",
    "                feed_dict={x: feature_batch, y: label_batch, keep_prob: 1.0})\n",
    "    a1 = session.run(\n",
    "                accuracy,\n",
    "                feed_dict={x: valid_features, y: valid_labels, keep_prob: 1.0})\n",
    "    print(\"Cost is %f, Accuracy is %f\" % (c1, a1))"
   ]
  },
  {
   "cell_type": "markdown",
   "metadata": {},
   "source": [
    "### Hyperparameters\n",
    "Tune the following parameters:\n",
    "* Set `epochs` to the number of iterations until the network stops learning or start overfitting\n",
    "* Set `batch_size` to the highest number that your machine has memory for.  Most people set them to common sizes of memory:\n",
    " * 64\n",
    " * 128\n",
    " * 256\n",
    " * ...\n",
    "* Set `keep_probability` to the probability of keeping a node using dropout"
   ]
  },
  {
   "cell_type": "code",
   "execution_count": 325,
   "metadata": {
    "collapsed": true
   },
   "outputs": [],
   "source": [
    "# TODO: Tune Parameters\n",
    "epochs = 50\n",
    "batch_size = 64\n",
    "keep_probability = 0.75"
   ]
  },
  {
   "cell_type": "markdown",
   "metadata": {},
   "source": [
    "### Train on a Single CIFAR-10 Batch\n",
    "Instead of training the neural network on all the CIFAR-10 batches of data, let's use a single batch. This should save time while you iterate on the model to get a better accuracy.  Once the final validation accuracy is 50% or greater, run the model on all the data in the next section."
   ]
  },
  {
   "cell_type": "code",
   "execution_count": 323,
   "metadata": {},
   "outputs": [
    {
     "name": "stdout",
     "output_type": "stream",
     "text": [
      "Checking the Training on a Single Batch...\n",
      "Epoch  1, CIFAR-10 Batch 1:  Cost is 2.019629, Accuracy is 0.325200\n",
      "Epoch  2, CIFAR-10 Batch 1:  Cost is 1.828771, Accuracy is 0.383400\n",
      "Epoch  3, CIFAR-10 Batch 1:  Cost is 1.727339, Accuracy is 0.435800\n",
      "Epoch  4, CIFAR-10 Batch 1:  Cost is 1.619398, Accuracy is 0.456200\n",
      "Epoch  5, CIFAR-10 Batch 1:  Cost is 1.538431, Accuracy is 0.487200\n",
      "Epoch  6, CIFAR-10 Batch 1:  Cost is 1.425468, Accuracy is 0.505800\n",
      "Epoch  7, CIFAR-10 Batch 1:  Cost is 1.346963, Accuracy is 0.510600\n",
      "Epoch  8, CIFAR-10 Batch 1:  Cost is 1.203660, Accuracy is 0.520200\n",
      "Epoch  9, CIFAR-10 Batch 1:  Cost is 1.173591, Accuracy is 0.526000\n",
      "Epoch 10, CIFAR-10 Batch 1:  Cost is 1.061781, Accuracy is 0.525800\n",
      "Epoch 11, CIFAR-10 Batch 1:  Cost is 1.098719, Accuracy is 0.516000\n",
      "Epoch 12, CIFAR-10 Batch 1:  Cost is 1.020136, Accuracy is 0.529000\n",
      "Epoch 13, CIFAR-10 Batch 1:  Cost is 0.900112, Accuracy is 0.523200\n",
      "Epoch 14, CIFAR-10 Batch 1:  Cost is 0.865507, Accuracy is 0.532000\n",
      "Epoch 15, CIFAR-10 Batch 1:  Cost is 0.856511, Accuracy is 0.527800\n",
      "Epoch 16, CIFAR-10 Batch 1:  Cost is 0.707771, Accuracy is 0.544000\n",
      "Epoch 17, CIFAR-10 Batch 1:  Cost is 0.657418, Accuracy is 0.541600\n",
      "Epoch 18, CIFAR-10 Batch 1:  Cost is 0.638613, Accuracy is 0.542400\n",
      "Epoch 19, CIFAR-10 Batch 1:  Cost is 0.581905, Accuracy is 0.551200\n",
      "Epoch 20, CIFAR-10 Batch 1:  Cost is 0.553124, Accuracy is 0.560400\n",
      "Epoch 21, CIFAR-10 Batch 1:  Cost is 0.462354, Accuracy is 0.569800\n",
      "Epoch 22, CIFAR-10 Batch 1:  Cost is 0.432404, Accuracy is 0.562200\n",
      "Epoch 23, CIFAR-10 Batch 1:  "
     ]
    },
    {
     "ename": "KeyboardInterrupt",
     "evalue": "",
     "output_type": "error",
     "traceback": [
      "\u001b[0;31m---------------------------------------------------------------------------\u001b[0m",
      "\u001b[0;31mKeyboardInterrupt\u001b[0m                         Traceback (most recent call last)",
      "\u001b[0;32m<ipython-input-323-93e3238a3a87>\u001b[0m in \u001b[0;36m<module>\u001b[0;34m()\u001b[0m\n\u001b[1;32m     13\u001b[0m             \u001b[0mtrain_neural_network\u001b[0m\u001b[0;34m(\u001b[0m\u001b[0msess\u001b[0m\u001b[0;34m,\u001b[0m \u001b[0moptimizer\u001b[0m\u001b[0;34m,\u001b[0m \u001b[0mkeep_probability\u001b[0m\u001b[0;34m,\u001b[0m \u001b[0mbatch_features\u001b[0m\u001b[0;34m,\u001b[0m \u001b[0mbatch_labels\u001b[0m\u001b[0;34m)\u001b[0m\u001b[0;34m\u001b[0m\u001b[0m\n\u001b[1;32m     14\u001b[0m         \u001b[0mprint\u001b[0m\u001b[0;34m(\u001b[0m\u001b[0;34m'Epoch {:>2}, CIFAR-10 Batch {}:  '\u001b[0m\u001b[0;34m.\u001b[0m\u001b[0mformat\u001b[0m\u001b[0;34m(\u001b[0m\u001b[0mepoch\u001b[0m \u001b[0;34m+\u001b[0m \u001b[0;36m1\u001b[0m\u001b[0;34m,\u001b[0m \u001b[0mbatch_i\u001b[0m\u001b[0;34m)\u001b[0m\u001b[0;34m,\u001b[0m \u001b[0mend\u001b[0m\u001b[0;34m=\u001b[0m\u001b[0;34m''\u001b[0m\u001b[0;34m)\u001b[0m\u001b[0;34m\u001b[0m\u001b[0m\n\u001b[0;32m---> 15\u001b[0;31m         \u001b[0mprint_stats\u001b[0m\u001b[0;34m(\u001b[0m\u001b[0msess\u001b[0m\u001b[0;34m,\u001b[0m \u001b[0mbatch_features\u001b[0m\u001b[0;34m,\u001b[0m \u001b[0mbatch_labels\u001b[0m\u001b[0;34m,\u001b[0m \u001b[0mcost\u001b[0m\u001b[0;34m,\u001b[0m \u001b[0maccuracy\u001b[0m\u001b[0;34m)\u001b[0m\u001b[0;34m\u001b[0m\u001b[0m\n\u001b[0m\u001b[1;32m     16\u001b[0m         \u001b[0;31m#print(batch_labels)\u001b[0m\u001b[0;34m\u001b[0m\u001b[0;34m\u001b[0m\u001b[0m\n\u001b[1;32m     17\u001b[0m         \u001b[0;31m#print_othershit(sess, batch_features, batch_labels, prediction, correct_pred)\u001b[0m\u001b[0;34m\u001b[0m\u001b[0;34m\u001b[0m\u001b[0m\n",
      "\u001b[0;32m<ipython-input-321-29c20993d631>\u001b[0m in \u001b[0;36mprint_stats\u001b[0;34m(session, feature_batch, label_batch, cost, accuracy)\u001b[0m\n\u001b[1;32m     14\u001b[0m     a1 = session.run(\n\u001b[1;32m     15\u001b[0m                 \u001b[0maccuracy\u001b[0m\u001b[0;34m,\u001b[0m\u001b[0;34m\u001b[0m\u001b[0m\n\u001b[0;32m---> 16\u001b[0;31m                 feed_dict={x: valid_features, y: valid_labels, keep_prob: 1.0})\n\u001b[0m\u001b[1;32m     17\u001b[0m     \u001b[0mprint\u001b[0m\u001b[0;34m(\u001b[0m\u001b[0;34m\"Cost is %f, Accuracy is %f\"\u001b[0m \u001b[0;34m%\u001b[0m \u001b[0;34m(\u001b[0m\u001b[0mc1\u001b[0m\u001b[0;34m,\u001b[0m \u001b[0ma1\u001b[0m\u001b[0;34m)\u001b[0m\u001b[0;34m)\u001b[0m\u001b[0;34m\u001b[0m\u001b[0m\n",
      "\u001b[0;32m~/anaconda/envs/tflearn/lib/python3.5/site-packages/tensorflow/python/client/session.py\u001b[0m in \u001b[0;36mrun\u001b[0;34m(self, fetches, feed_dict, options, run_metadata)\u001b[0m\n\u001b[1;32m    765\u001b[0m     \u001b[0;32mtry\u001b[0m\u001b[0;34m:\u001b[0m\u001b[0;34m\u001b[0m\u001b[0m\n\u001b[1;32m    766\u001b[0m       result = self._run(None, fetches, feed_dict, options_ptr,\n\u001b[0;32m--> 767\u001b[0;31m                          run_metadata_ptr)\n\u001b[0m\u001b[1;32m    768\u001b[0m       \u001b[0;32mif\u001b[0m \u001b[0mrun_metadata\u001b[0m\u001b[0;34m:\u001b[0m\u001b[0;34m\u001b[0m\u001b[0m\n\u001b[1;32m    769\u001b[0m         \u001b[0mproto_data\u001b[0m \u001b[0;34m=\u001b[0m \u001b[0mtf_session\u001b[0m\u001b[0;34m.\u001b[0m\u001b[0mTF_GetBuffer\u001b[0m\u001b[0;34m(\u001b[0m\u001b[0mrun_metadata_ptr\u001b[0m\u001b[0;34m)\u001b[0m\u001b[0;34m\u001b[0m\u001b[0m\n",
      "\u001b[0;32m~/anaconda/envs/tflearn/lib/python3.5/site-packages/tensorflow/python/client/session.py\u001b[0m in \u001b[0;36m_run\u001b[0;34m(self, handle, fetches, feed_dict, options, run_metadata)\u001b[0m\n\u001b[1;32m    963\u001b[0m     \u001b[0;32mif\u001b[0m \u001b[0mfinal_fetches\u001b[0m \u001b[0;32mor\u001b[0m \u001b[0mfinal_targets\u001b[0m\u001b[0;34m:\u001b[0m\u001b[0;34m\u001b[0m\u001b[0m\n\u001b[1;32m    964\u001b[0m       results = self._do_run(handle, final_targets, final_fetches,\n\u001b[0;32m--> 965\u001b[0;31m                              feed_dict_string, options, run_metadata)\n\u001b[0m\u001b[1;32m    966\u001b[0m     \u001b[0;32melse\u001b[0m\u001b[0;34m:\u001b[0m\u001b[0;34m\u001b[0m\u001b[0m\n\u001b[1;32m    967\u001b[0m       \u001b[0mresults\u001b[0m \u001b[0;34m=\u001b[0m \u001b[0;34m[\u001b[0m\u001b[0;34m]\u001b[0m\u001b[0;34m\u001b[0m\u001b[0m\n",
      "\u001b[0;32m~/anaconda/envs/tflearn/lib/python3.5/site-packages/tensorflow/python/client/session.py\u001b[0m in \u001b[0;36m_do_run\u001b[0;34m(self, handle, target_list, fetch_list, feed_dict, options, run_metadata)\u001b[0m\n\u001b[1;32m   1013\u001b[0m     \u001b[0;32mif\u001b[0m \u001b[0mhandle\u001b[0m \u001b[0;32mis\u001b[0m \u001b[0;32mNone\u001b[0m\u001b[0;34m:\u001b[0m\u001b[0;34m\u001b[0m\u001b[0m\n\u001b[1;32m   1014\u001b[0m       return self._do_call(_run_fn, self._session, feed_dict, fetch_list,\n\u001b[0;32m-> 1015\u001b[0;31m                            target_list, options, run_metadata)\n\u001b[0m\u001b[1;32m   1016\u001b[0m     \u001b[0;32melse\u001b[0m\u001b[0;34m:\u001b[0m\u001b[0;34m\u001b[0m\u001b[0m\n\u001b[1;32m   1017\u001b[0m       return self._do_call(_prun_fn, self._session, handle, feed_dict,\n",
      "\u001b[0;32m~/anaconda/envs/tflearn/lib/python3.5/site-packages/tensorflow/python/client/session.py\u001b[0m in \u001b[0;36m_do_call\u001b[0;34m(self, fn, *args)\u001b[0m\n\u001b[1;32m   1020\u001b[0m   \u001b[0;32mdef\u001b[0m \u001b[0m_do_call\u001b[0m\u001b[0;34m(\u001b[0m\u001b[0mself\u001b[0m\u001b[0;34m,\u001b[0m \u001b[0mfn\u001b[0m\u001b[0;34m,\u001b[0m \u001b[0;34m*\u001b[0m\u001b[0margs\u001b[0m\u001b[0;34m)\u001b[0m\u001b[0;34m:\u001b[0m\u001b[0;34m\u001b[0m\u001b[0m\n\u001b[1;32m   1021\u001b[0m     \u001b[0;32mtry\u001b[0m\u001b[0;34m:\u001b[0m\u001b[0;34m\u001b[0m\u001b[0m\n\u001b[0;32m-> 1022\u001b[0;31m       \u001b[0;32mreturn\u001b[0m \u001b[0mfn\u001b[0m\u001b[0;34m(\u001b[0m\u001b[0;34m*\u001b[0m\u001b[0margs\u001b[0m\u001b[0;34m)\u001b[0m\u001b[0;34m\u001b[0m\u001b[0m\n\u001b[0m\u001b[1;32m   1023\u001b[0m     \u001b[0;32mexcept\u001b[0m \u001b[0merrors\u001b[0m\u001b[0;34m.\u001b[0m\u001b[0mOpError\u001b[0m \u001b[0;32mas\u001b[0m \u001b[0me\u001b[0m\u001b[0;34m:\u001b[0m\u001b[0;34m\u001b[0m\u001b[0m\n\u001b[1;32m   1024\u001b[0m       \u001b[0mmessage\u001b[0m \u001b[0;34m=\u001b[0m \u001b[0mcompat\u001b[0m\u001b[0;34m.\u001b[0m\u001b[0mas_text\u001b[0m\u001b[0;34m(\u001b[0m\u001b[0me\u001b[0m\u001b[0;34m.\u001b[0m\u001b[0mmessage\u001b[0m\u001b[0;34m)\u001b[0m\u001b[0;34m\u001b[0m\u001b[0m\n",
      "\u001b[0;32m~/anaconda/envs/tflearn/lib/python3.5/site-packages/tensorflow/python/client/session.py\u001b[0m in \u001b[0;36m_run_fn\u001b[0;34m(session, feed_dict, fetch_list, target_list, options, run_metadata)\u001b[0m\n\u001b[1;32m   1002\u001b[0m         return tf_session.TF_Run(session, options,\n\u001b[1;32m   1003\u001b[0m                                  \u001b[0mfeed_dict\u001b[0m\u001b[0;34m,\u001b[0m \u001b[0mfetch_list\u001b[0m\u001b[0;34m,\u001b[0m \u001b[0mtarget_list\u001b[0m\u001b[0;34m,\u001b[0m\u001b[0;34m\u001b[0m\u001b[0m\n\u001b[0;32m-> 1004\u001b[0;31m                                  status, run_metadata)\n\u001b[0m\u001b[1;32m   1005\u001b[0m \u001b[0;34m\u001b[0m\u001b[0m\n\u001b[1;32m   1006\u001b[0m     \u001b[0;32mdef\u001b[0m \u001b[0m_prun_fn\u001b[0m\u001b[0;34m(\u001b[0m\u001b[0msession\u001b[0m\u001b[0;34m,\u001b[0m \u001b[0mhandle\u001b[0m\u001b[0;34m,\u001b[0m \u001b[0mfeed_dict\u001b[0m\u001b[0;34m,\u001b[0m \u001b[0mfetch_list\u001b[0m\u001b[0;34m)\u001b[0m\u001b[0;34m:\u001b[0m\u001b[0;34m\u001b[0m\u001b[0m\n",
      "\u001b[0;31mKeyboardInterrupt\u001b[0m: "
     ]
    }
   ],
   "source": [
    "\"\"\"\n",
    "DON'T MODIFY ANYTHING IN THIS CELL\n",
    "\"\"\"\n",
    "print('Checking the Training on a Single Batch...')\n",
    "with tf.Session() as sess:\n",
    "    # Initializing the variables\n",
    "    sess.run(tf.global_variables_initializer())\n",
    "    \n",
    "    # Training cycle\n",
    "    for epoch in range(epochs):\n",
    "        batch_i = 1\n",
    "        for batch_features, batch_labels in helper.load_preprocess_training_batch(batch_i, batch_size):\n",
    "            train_neural_network(sess, optimizer, keep_probability, batch_features, batch_labels)\n",
    "        print('Epoch {:>2}, CIFAR-10 Batch {}:  '.format(epoch + 1, batch_i), end='')\n",
    "        print_stats(sess, batch_features, batch_labels, cost, accuracy)\n",
    "        #print(batch_labels)\n",
    "        #print_othershit(sess, batch_features, batch_labels, prediction, correct_pred)"
   ]
  },
  {
   "cell_type": "markdown",
   "metadata": {},
   "source": [
    "### Fully Train the Model\n",
    "Now that you got a good accuracy with a single CIFAR-10 batch, try it with all five batches."
   ]
  },
  {
   "cell_type": "code",
   "execution_count": 326,
   "metadata": {},
   "outputs": [
    {
     "name": "stdout",
     "output_type": "stream",
     "text": [
      "Training...\n",
      "Epoch  1, CIFAR-10 Batch 1:  Cost is 2.078550, Accuracy is 0.341200\n",
      "Epoch  1, CIFAR-10 Batch 2:  Cost is 1.680691, Accuracy is 0.386000\n",
      "Epoch  1, CIFAR-10 Batch 3:  Cost is 1.349685, Accuracy is 0.440000\n",
      "Epoch  1, CIFAR-10 Batch 4:  Cost is 1.485493, Accuracy is 0.461400\n",
      "Epoch  1, CIFAR-10 Batch 5:  Cost is 1.527457, Accuracy is 0.495800\n",
      "Epoch  2, CIFAR-10 Batch 1:  Cost is 1.647390, Accuracy is 0.514200\n",
      "Epoch  2, CIFAR-10 Batch 2:  Cost is 1.356805, Accuracy is 0.484200\n",
      "Epoch  2, CIFAR-10 Batch 3:  Cost is 1.143764, Accuracy is 0.515400\n",
      "Epoch  2, CIFAR-10 Batch 4:  Cost is 1.178699, Accuracy is 0.545800\n",
      "Epoch  2, CIFAR-10 Batch 5:  Cost is 1.368383, Accuracy is 0.544200\n",
      "Epoch  3, CIFAR-10 Batch 1:  Cost is 1.414298, Accuracy is 0.558600\n",
      "Epoch  3, CIFAR-10 Batch 2:  Cost is 1.185256, Accuracy is 0.553400\n",
      "Epoch  3, CIFAR-10 Batch 3:  Cost is 0.990848, Accuracy is 0.572600\n",
      "Epoch  3, CIFAR-10 Batch 4:  Cost is 1.015119, Accuracy is 0.582200\n",
      "Epoch  3, CIFAR-10 Batch 5:  Cost is 1.094392, Accuracy is 0.592400\n",
      "Epoch  4, CIFAR-10 Batch 1:  Cost is 1.282104, Accuracy is 0.597000\n",
      "Epoch  4, CIFAR-10 Batch 2:  Cost is 1.045417, Accuracy is 0.594400\n",
      "Epoch  4, CIFAR-10 Batch 3:  Cost is 0.891834, Accuracy is 0.602400\n",
      "Epoch  4, CIFAR-10 Batch 4:  Cost is 0.895953, Accuracy is 0.611400\n",
      "Epoch  4, CIFAR-10 Batch 5:  Cost is 0.961314, Accuracy is 0.614200\n",
      "Epoch  5, CIFAR-10 Batch 1:  Cost is 1.160660, Accuracy is 0.600600\n",
      "Epoch  5, CIFAR-10 Batch 2:  Cost is 0.897707, Accuracy is 0.602800\n",
      "Epoch  5, CIFAR-10 Batch 3:  Cost is 0.872063, Accuracy is 0.609800\n",
      "Epoch  5, CIFAR-10 Batch 4:  Cost is 0.828674, Accuracy is 0.620800\n",
      "Epoch  5, CIFAR-10 Batch 5:  Cost is 0.891517, Accuracy is 0.618600\n",
      "Epoch  6, CIFAR-10 Batch 1:  Cost is 1.005056, Accuracy is 0.628600\n",
      "Epoch  6, CIFAR-10 Batch 2:  Cost is 0.865453, Accuracy is 0.622800\n",
      "Epoch  6, CIFAR-10 Batch 3:  Cost is 0.739516, Accuracy is 0.624200\n",
      "Epoch  6, CIFAR-10 Batch 4:  Cost is 0.739532, Accuracy is 0.636000\n",
      "Epoch  6, CIFAR-10 Batch 5:  Cost is 0.784817, Accuracy is 0.638400\n",
      "Epoch  7, CIFAR-10 Batch 1:  Cost is 0.915539, Accuracy is 0.632800\n",
      "Epoch  7, CIFAR-10 Batch 2:  Cost is 0.738385, Accuracy is 0.626800\n",
      "Epoch  7, CIFAR-10 Batch 3:  Cost is 0.666564, Accuracy is 0.642600\n",
      "Epoch  7, CIFAR-10 Batch 4:  Cost is 0.711296, Accuracy is 0.646200\n",
      "Epoch  7, CIFAR-10 Batch 5:  Cost is 0.749123, Accuracy is 0.643000\n",
      "Epoch  8, CIFAR-10 Batch 1:  Cost is 0.858579, Accuracy is 0.632000\n",
      "Epoch  8, CIFAR-10 Batch 2:  Cost is 0.703904, Accuracy is 0.634000\n",
      "Epoch  8, CIFAR-10 Batch 3:  Cost is 0.680568, Accuracy is 0.651000\n",
      "Epoch  8, CIFAR-10 Batch 4:  Cost is 0.612005, Accuracy is 0.651200\n",
      "Epoch  8, CIFAR-10 Batch 5:  Cost is 0.688826, Accuracy is 0.647400\n",
      "Epoch  9, CIFAR-10 Batch 1:  Cost is 0.718205, Accuracy is 0.658200\n",
      "Epoch  9, CIFAR-10 Batch 2:  Cost is 0.695778, Accuracy is 0.651800\n",
      "Epoch  9, CIFAR-10 Batch 3:  Cost is 0.582954, Accuracy is 0.652000\n",
      "Epoch  9, CIFAR-10 Batch 4:  Cost is 0.602224, Accuracy is 0.661800\n",
      "Epoch  9, CIFAR-10 Batch 5:  Cost is 0.612388, Accuracy is 0.655800\n",
      "Epoch 10, CIFAR-10 Batch 1:  Cost is 0.693330, Accuracy is 0.655600\n",
      "Epoch 10, CIFAR-10 Batch 2:  Cost is 0.615145, Accuracy is 0.640000\n",
      "Epoch 10, CIFAR-10 Batch 3:  Cost is 0.523408, Accuracy is 0.656400\n",
      "Epoch 10, CIFAR-10 Batch 4:  Cost is 0.534289, Accuracy is 0.662800\n",
      "Epoch 10, CIFAR-10 Batch 5:  Cost is 0.553618, Accuracy is 0.664400\n",
      "Epoch 11, CIFAR-10 Batch 1:  Cost is 0.693802, Accuracy is 0.653600\n",
      "Epoch 11, CIFAR-10 Batch 2:  Cost is 0.586025, Accuracy is 0.664200\n",
      "Epoch 11, CIFAR-10 Batch 3:  Cost is 0.465481, Accuracy is 0.665600\n",
      "Epoch 11, CIFAR-10 Batch 4:  Cost is 0.502703, Accuracy is 0.667200\n",
      "Epoch 11, CIFAR-10 Batch 5:  Cost is 0.549382, Accuracy is 0.664400\n",
      "Epoch 12, CIFAR-10 Batch 1:  Cost is 0.621723, Accuracy is 0.665800\n",
      "Epoch 12, CIFAR-10 Batch 2:  Cost is 0.550082, Accuracy is 0.672400\n",
      "Epoch 12, CIFAR-10 Batch 3:  Cost is 0.449136, Accuracy is 0.673400\n",
      "Epoch 12, CIFAR-10 Batch 4:  Cost is 0.479681, Accuracy is 0.669800\n",
      "Epoch 12, CIFAR-10 Batch 5:  Cost is 0.494081, Accuracy is 0.670200\n",
      "Epoch 13, CIFAR-10 Batch 1:  Cost is 0.559765, Accuracy is 0.672400\n",
      "Epoch 13, CIFAR-10 Batch 2:  Cost is 0.558914, Accuracy is 0.669600\n",
      "Epoch 13, CIFAR-10 Batch 3:  Cost is 0.425855, Accuracy is 0.673000\n",
      "Epoch 13, CIFAR-10 Batch 4:  Cost is 0.426131, Accuracy is 0.663600\n",
      "Epoch 13, CIFAR-10 Batch 5:  Cost is 0.502159, Accuracy is 0.661800\n",
      "Epoch 14, CIFAR-10 Batch 1:  Cost is 0.552316, Accuracy is 0.669800\n",
      "Epoch 14, CIFAR-10 Batch 2:  Cost is 0.473015, Accuracy is 0.670400\n",
      "Epoch 14, CIFAR-10 Batch 3:  Cost is 0.355982, Accuracy is 0.667600\n",
      "Epoch 14, CIFAR-10 Batch 4:  Cost is 0.425049, Accuracy is 0.672000\n",
      "Epoch 14, CIFAR-10 Batch 5:  Cost is 0.458218, Accuracy is 0.668600\n",
      "Epoch 15, CIFAR-10 Batch 1:  Cost is 0.515035, Accuracy is 0.664800\n",
      "Epoch 15, CIFAR-10 Batch 2:  Cost is 0.487879, Accuracy is 0.670600\n",
      "Epoch 15, CIFAR-10 Batch 3:  Cost is 0.351754, Accuracy is 0.681400\n",
      "Epoch 15, CIFAR-10 Batch 4:  Cost is 0.361262, Accuracy is 0.680000\n",
      "Epoch 15, CIFAR-10 Batch 5:  Cost is 0.443969, Accuracy is 0.673000\n",
      "Epoch 16, CIFAR-10 Batch 1:  Cost is 0.485376, Accuracy is 0.681800\n",
      "Epoch 16, CIFAR-10 Batch 2:  Cost is 0.428976, Accuracy is 0.675800\n",
      "Epoch 16, CIFAR-10 Batch 3:  Cost is 0.326981, Accuracy is 0.684400\n",
      "Epoch 16, CIFAR-10 Batch 4:  Cost is 0.365392, Accuracy is 0.677400\n",
      "Epoch 16, CIFAR-10 Batch 5:  Cost is 0.384746, Accuracy is 0.681000\n",
      "Epoch 17, CIFAR-10 Batch 1:  Cost is 0.492460, Accuracy is 0.673200\n",
      "Epoch 17, CIFAR-10 Batch 2:  Cost is 0.376375, Accuracy is 0.678200\n",
      "Epoch 17, CIFAR-10 Batch 3:  Cost is 0.270976, Accuracy is 0.686000\n",
      "Epoch 17, CIFAR-10 Batch 4:  Cost is 0.380518, Accuracy is 0.672000\n",
      "Epoch 17, CIFAR-10 Batch 5:  Cost is 0.357175, Accuracy is 0.682400\n",
      "Epoch 18, CIFAR-10 Batch 1:  Cost is 0.409550, Accuracy is 0.665800\n",
      "Epoch 18, CIFAR-10 Batch 2:  Cost is 0.358800, Accuracy is 0.675600\n",
      "Epoch 18, CIFAR-10 Batch 3:  Cost is 0.227008, Accuracy is 0.680600\n",
      "Epoch 18, CIFAR-10 Batch 4:  Cost is 0.323348, Accuracy is 0.678400\n",
      "Epoch 18, CIFAR-10 Batch 5:  Cost is 0.321529, Accuracy is 0.680600\n",
      "Epoch 19, CIFAR-10 Batch 1:  Cost is 0.455442, Accuracy is 0.668200\n",
      "Epoch 19, CIFAR-10 Batch 2:  Cost is 0.374697, Accuracy is 0.662800\n",
      "Epoch 19, CIFAR-10 Batch 3:  Cost is 0.269060, Accuracy is 0.673400\n",
      "Epoch 19, CIFAR-10 Batch 4:  Cost is 0.325452, Accuracy is 0.675000\n",
      "Epoch 19, CIFAR-10 Batch 5:  Cost is 0.322991, Accuracy is 0.677600\n",
      "Epoch 20, CIFAR-10 Batch 1:  Cost is 0.345496, Accuracy is 0.688000\n",
      "Epoch 20, CIFAR-10 Batch 2:  Cost is 0.348619, Accuracy is 0.678400\n",
      "Epoch 20, CIFAR-10 Batch 3:  Cost is 0.225941, Accuracy is 0.681400\n",
      "Epoch 20, CIFAR-10 Batch 4:  Cost is 0.293405, Accuracy is 0.685200\n",
      "Epoch 20, CIFAR-10 Batch 5:  Cost is 0.295447, Accuracy is 0.678800\n",
      "Epoch 21, CIFAR-10 Batch 1:  Cost is 0.336812, Accuracy is 0.679200\n",
      "Epoch 21, CIFAR-10 Batch 2:  Cost is 0.292752, Accuracy is 0.682600\n",
      "Epoch 21, CIFAR-10 Batch 3:  Cost is 0.229931, Accuracy is 0.669000\n",
      "Epoch 21, CIFAR-10 Batch 4:  Cost is 0.259090, Accuracy is 0.668000\n",
      "Epoch 21, CIFAR-10 Batch 5:  Cost is 0.255737, Accuracy is 0.684600\n",
      "Epoch 22, CIFAR-10 Batch 1:  Cost is 0.359510, Accuracy is 0.681600\n",
      "Epoch 22, CIFAR-10 Batch 2:  Cost is 0.273772, Accuracy is 0.684800\n",
      "Epoch 22, CIFAR-10 Batch 3:  Cost is 0.299309, Accuracy is 0.659800\n",
      "Epoch 22, CIFAR-10 Batch 4:  Cost is 0.272580, Accuracy is 0.671200\n",
      "Epoch 22, CIFAR-10 Batch 5:  Cost is 0.216153, Accuracy is 0.680000\n",
      "Epoch 23, CIFAR-10 Batch 1:  Cost is 0.314182, Accuracy is 0.685800\n",
      "Epoch 23, CIFAR-10 Batch 2:  Cost is 0.258309, Accuracy is 0.676600\n",
      "Epoch 23, CIFAR-10 Batch 3:  Cost is 0.236467, Accuracy is 0.683800\n",
      "Epoch 23, CIFAR-10 Batch 4:  Cost is 0.248672, Accuracy is 0.673600\n",
      "Epoch 23, CIFAR-10 Batch 5:  Cost is 0.260404, Accuracy is 0.681000\n",
      "Epoch 24, CIFAR-10 Batch 1:  Cost is 0.331609, Accuracy is 0.679400\n",
      "Epoch 24, CIFAR-10 Batch 2:  Cost is 0.244389, Accuracy is 0.688600\n",
      "Epoch 24, CIFAR-10 Batch 3:  Cost is 0.174539, Accuracy is 0.680000\n",
      "Epoch 24, CIFAR-10 Batch 4:  Cost is 0.183774, Accuracy is 0.687200\n",
      "Epoch 24, CIFAR-10 Batch 5:  Cost is 0.279911, Accuracy is 0.673200\n"
     ]
    },
    {
     "name": "stdout",
     "output_type": "stream",
     "text": [
      "Epoch 25, CIFAR-10 Batch 1:  Cost is 0.305823, Accuracy is 0.688600\n",
      "Epoch 25, CIFAR-10 Batch 2:  Cost is 0.229247, Accuracy is 0.690200\n",
      "Epoch 25, CIFAR-10 Batch 3:  Cost is 0.164993, Accuracy is 0.678200\n",
      "Epoch 25, CIFAR-10 Batch 4:  Cost is 0.236892, Accuracy is 0.682000\n",
      "Epoch 25, CIFAR-10 Batch 5:  Cost is 0.296871, Accuracy is 0.677800\n",
      "Epoch 26, CIFAR-10 Batch 1:  Cost is 0.335386, Accuracy is 0.679800\n",
      "Epoch 26, CIFAR-10 Batch 2:  Cost is 0.229886, Accuracy is 0.683400\n",
      "Epoch 26, CIFAR-10 Batch 3:  Cost is 0.161675, Accuracy is 0.674200\n",
      "Epoch 26, CIFAR-10 Batch 4:  Cost is 0.238323, Accuracy is 0.689000\n",
      "Epoch 26, CIFAR-10 Batch 5:  Cost is 0.248038, Accuracy is 0.665400\n",
      "Epoch 27, CIFAR-10 Batch 1:  Cost is 0.287038, Accuracy is 0.678800\n",
      "Epoch 27, CIFAR-10 Batch 2:  Cost is 0.241231, Accuracy is 0.686000\n",
      "Epoch 27, CIFAR-10 Batch 3:  Cost is 0.148941, Accuracy is 0.685200\n",
      "Epoch 27, CIFAR-10 Batch 4:  Cost is 0.257284, Accuracy is 0.675800\n",
      "Epoch 27, CIFAR-10 Batch 5:  Cost is 0.214485, Accuracy is 0.678200\n",
      "Epoch 28, CIFAR-10 Batch 1:  Cost is 0.253719, Accuracy is 0.691800\n",
      "Epoch 28, CIFAR-10 Batch 2:  Cost is 0.183747, Accuracy is 0.689000\n",
      "Epoch 28, CIFAR-10 Batch 3:  Cost is 0.190655, Accuracy is 0.680400\n",
      "Epoch 28, CIFAR-10 Batch 4:  Cost is 0.238579, Accuracy is 0.665200\n",
      "Epoch 28, CIFAR-10 Batch 5:  Cost is 0.182527, Accuracy is 0.688400\n",
      "Epoch 29, CIFAR-10 Batch 1:  Cost is 0.257582, Accuracy is 0.683200\n",
      "Epoch 29, CIFAR-10 Batch 2:  Cost is 0.164169, Accuracy is 0.685600\n",
      "Epoch 29, CIFAR-10 Batch 3:  Cost is 0.168367, Accuracy is 0.673600\n",
      "Epoch 29, CIFAR-10 Batch 4:  Cost is 0.195324, Accuracy is 0.688800\n",
      "Epoch 29, CIFAR-10 Batch 5:  Cost is 0.185356, Accuracy is 0.685800\n",
      "Epoch 30, CIFAR-10 Batch 1:  Cost is 0.288661, Accuracy is 0.677600\n",
      "Epoch 30, CIFAR-10 Batch 2:  Cost is 0.171879, Accuracy is 0.685000\n",
      "Epoch 30, CIFAR-10 Batch 3:  Cost is 0.164988, Accuracy is 0.681600\n",
      "Epoch 30, CIFAR-10 Batch 4:  Cost is 0.236516, Accuracy is 0.682600\n",
      "Epoch 30, CIFAR-10 Batch 5:  Cost is 0.195235, Accuracy is 0.684800\n",
      "Epoch 31, CIFAR-10 Batch 1:  Cost is 0.219165, Accuracy is 0.682000\n",
      "Epoch 31, CIFAR-10 Batch 2:  Cost is 0.155481, Accuracy is 0.691600\n",
      "Epoch 31, CIFAR-10 Batch 3:  Cost is 0.119438, Accuracy is 0.687400\n",
      "Epoch 31, CIFAR-10 Batch 4:  Cost is 0.198746, Accuracy is 0.702400\n",
      "Epoch 31, CIFAR-10 Batch 5:  Cost is 0.214813, Accuracy is 0.678800\n",
      "Epoch 32, CIFAR-10 Batch 1:  Cost is 0.285343, Accuracy is 0.692800\n",
      "Epoch 32, CIFAR-10 Batch 2:  Cost is 0.152349, Accuracy is 0.684400\n",
      "Epoch 32, CIFAR-10 Batch 3:  Cost is 0.122584, Accuracy is 0.679200\n",
      "Epoch 32, CIFAR-10 Batch 4:  Cost is 0.190218, Accuracy is 0.687200\n",
      "Epoch 32, CIFAR-10 Batch 5:  Cost is 0.153253, Accuracy is 0.675000\n",
      "Epoch 33, CIFAR-10 Batch 1:  Cost is 0.245421, Accuracy is 0.678400\n",
      "Epoch 33, CIFAR-10 Batch 2:  Cost is 0.161078, Accuracy is 0.685000\n",
      "Epoch 33, CIFAR-10 Batch 3:  Cost is 0.109998, Accuracy is 0.685200\n",
      "Epoch 33, CIFAR-10 Batch 4:  Cost is 0.190678, Accuracy is 0.685800\n",
      "Epoch 33, CIFAR-10 Batch 5:  Cost is 0.204838, Accuracy is 0.686400\n",
      "Epoch 34, CIFAR-10 Batch 1:  Cost is 0.254822, Accuracy is 0.683000\n",
      "Epoch 34, CIFAR-10 Batch 2:  Cost is 0.168848, Accuracy is 0.691200\n",
      "Epoch 34, CIFAR-10 Batch 3:  Cost is 0.107597, Accuracy is 0.684400\n",
      "Epoch 34, CIFAR-10 Batch 4:  Cost is 0.213125, Accuracy is 0.683800\n",
      "Epoch 34, CIFAR-10 Batch 5:  Cost is 0.213883, Accuracy is 0.672000\n",
      "Epoch 35, CIFAR-10 Batch 1:  Cost is 0.197068, Accuracy is 0.683200\n",
      "Epoch 35, CIFAR-10 Batch 2:  Cost is 0.127546, Accuracy is 0.691200\n",
      "Epoch 35, CIFAR-10 Batch 3:  Cost is 0.126104, Accuracy is 0.666800\n",
      "Epoch 35, CIFAR-10 Batch 4:  Cost is 0.189655, Accuracy is 0.681000\n",
      "Epoch 35, CIFAR-10 Batch 5:  Cost is 0.147131, Accuracy is 0.666000\n",
      "Epoch 36, CIFAR-10 Batch 1:  Cost is 0.226783, Accuracy is 0.676000\n",
      "Epoch 36, CIFAR-10 Batch 2:  Cost is 0.155374, Accuracy is 0.686800\n",
      "Epoch 36, CIFAR-10 Batch 3:  Cost is 0.123997, Accuracy is 0.687000\n",
      "Epoch 36, CIFAR-10 Batch 4:  Cost is 0.186042, Accuracy is 0.683200\n",
      "Epoch 36, CIFAR-10 Batch 5:  Cost is 0.132521, Accuracy is 0.672800\n",
      "Epoch 37, CIFAR-10 Batch 1:  Cost is 0.152065, Accuracy is 0.682800\n",
      "Epoch 37, CIFAR-10 Batch 2:  Cost is 0.135089, Accuracy is 0.686000\n",
      "Epoch 37, CIFAR-10 Batch 3:  Cost is 0.117543, Accuracy is 0.686400\n",
      "Epoch 37, CIFAR-10 Batch 4:  Cost is 0.218417, Accuracy is 0.683600\n",
      "Epoch 37, CIFAR-10 Batch 5:  Cost is 0.193897, Accuracy is 0.674800\n",
      "Epoch 38, CIFAR-10 Batch 1:  Cost is 0.170834, Accuracy is 0.684200\n",
      "Epoch 38, CIFAR-10 Batch 2:  Cost is 0.130827, Accuracy is 0.679200\n",
      "Epoch 38, CIFAR-10 Batch 3:  Cost is 0.104174, Accuracy is 0.690800\n",
      "Epoch 38, CIFAR-10 Batch 4:  Cost is 0.199358, Accuracy is 0.690600\n",
      "Epoch 38, CIFAR-10 Batch 5:  Cost is 0.160593, Accuracy is 0.682400\n",
      "Epoch 39, CIFAR-10 Batch 1:  Cost is 0.176895, Accuracy is 0.689200\n",
      "Epoch 39, CIFAR-10 Batch 2:  Cost is 0.118715, Accuracy is 0.686000\n",
      "Epoch 39, CIFAR-10 Batch 3:  Cost is 0.122534, Accuracy is 0.683600\n",
      "Epoch 39, CIFAR-10 Batch 4:  Cost is 0.197265, Accuracy is 0.680600\n",
      "Epoch 39, CIFAR-10 Batch 5:  Cost is 0.129748, Accuracy is 0.689400\n",
      "Epoch 40, CIFAR-10 Batch 1:  Cost is 0.180385, Accuracy is 0.684600\n",
      "Epoch 40, CIFAR-10 Batch 2:  Cost is 0.101826, Accuracy is 0.683000\n",
      "Epoch 40, CIFAR-10 Batch 3:  Cost is 0.104840, Accuracy is 0.685400\n",
      "Epoch 40, CIFAR-10 Batch 4:  Cost is 0.226041, Accuracy is 0.683600\n",
      "Epoch 40, CIFAR-10 Batch 5:  Cost is 0.132231, Accuracy is 0.681000\n",
      "Epoch 41, CIFAR-10 Batch 1:  Cost is 0.160935, Accuracy is 0.681200\n",
      "Epoch 41, CIFAR-10 Batch 2:  Cost is 0.112713, Accuracy is 0.689400\n",
      "Epoch 41, CIFAR-10 Batch 3:  Cost is 0.150440, Accuracy is 0.682400\n",
      "Epoch 41, CIFAR-10 Batch 4:  Cost is 0.143116, Accuracy is 0.687800\n",
      "Epoch 41, CIFAR-10 Batch 5:  Cost is 0.149677, Accuracy is 0.680200\n",
      "Epoch 42, CIFAR-10 Batch 1:  Cost is 0.144890, Accuracy is 0.681800\n",
      "Epoch 42, CIFAR-10 Batch 2:  Cost is 0.090659, Accuracy is 0.688600\n",
      "Epoch 42, CIFAR-10 Batch 3:  Cost is 0.072031, Accuracy is 0.690200\n",
      "Epoch 42, CIFAR-10 Batch 4:  Cost is 0.133635, Accuracy is 0.689800\n",
      "Epoch 42, CIFAR-10 Batch 5:  Cost is 0.113821, Accuracy is 0.689000\n",
      "Epoch 43, CIFAR-10 Batch 1:  Cost is 0.178355, Accuracy is 0.687600\n",
      "Epoch 43, CIFAR-10 Batch 2:  Cost is 0.116235, Accuracy is 0.683000\n",
      "Epoch 43, CIFAR-10 Batch 3:  Cost is 0.084216, Accuracy is 0.685000\n",
      "Epoch 43, CIFAR-10 Batch 4:  Cost is 0.199157, Accuracy is 0.678800\n",
      "Epoch 43, CIFAR-10 Batch 5:  Cost is 0.137591, Accuracy is 0.683400\n",
      "Epoch 44, CIFAR-10 Batch 1:  Cost is 0.146056, Accuracy is 0.682000\n",
      "Epoch 44, CIFAR-10 Batch 2:  Cost is 0.115323, Accuracy is 0.686000\n",
      "Epoch 44, CIFAR-10 Batch 3:  Cost is 0.124059, Accuracy is 0.682200\n",
      "Epoch 44, CIFAR-10 Batch 4:  Cost is 0.144290, Accuracy is 0.682400\n",
      "Epoch 44, CIFAR-10 Batch 5:  Cost is 0.132001, Accuracy is 0.681200\n",
      "Epoch 45, CIFAR-10 Batch 1:  Cost is 0.101324, Accuracy is 0.682000\n",
      "Epoch 45, CIFAR-10 Batch 2:  Cost is 0.088231, Accuracy is 0.689400\n",
      "Epoch 45, CIFAR-10 Batch 3:  Cost is 0.101963, Accuracy is 0.695200\n",
      "Epoch 45, CIFAR-10 Batch 4:  Cost is 0.207033, Accuracy is 0.685400\n",
      "Epoch 45, CIFAR-10 Batch 5:  Cost is 0.111223, Accuracy is 0.691600\n",
      "Epoch 46, CIFAR-10 Batch 1:  Cost is 0.129373, Accuracy is 0.690000\n",
      "Epoch 46, CIFAR-10 Batch 2:  Cost is 0.090666, Accuracy is 0.687000\n",
      "Epoch 46, CIFAR-10 Batch 3:  Cost is 0.091114, Accuracy is 0.685400\n",
      "Epoch 46, CIFAR-10 Batch 4:  Cost is 0.138317, Accuracy is 0.690600\n",
      "Epoch 46, CIFAR-10 Batch 5:  Cost is 0.115821, Accuracy is 0.692400\n",
      "Epoch 47, CIFAR-10 Batch 1:  Cost is 0.137756, Accuracy is 0.676200\n",
      "Epoch 47, CIFAR-10 Batch 2:  Cost is 0.102144, Accuracy is 0.692800\n",
      "Epoch 47, CIFAR-10 Batch 3:  Cost is 0.083546, Accuracy is 0.688200\n",
      "Epoch 47, CIFAR-10 Batch 4:  Cost is 0.149344, Accuracy is 0.683000\n",
      "Epoch 47, CIFAR-10 Batch 5:  Cost is 0.137486, Accuracy is 0.685000\n",
      "Epoch 48, CIFAR-10 Batch 1:  Cost is 0.144173, Accuracy is 0.681200\n",
      "Epoch 48, CIFAR-10 Batch 2:  Cost is 0.087405, Accuracy is 0.687400\n",
      "Epoch 48, CIFAR-10 Batch 3:  Cost is 0.082018, Accuracy is 0.686600\n",
      "Epoch 48, CIFAR-10 Batch 4:  Cost is 0.105026, Accuracy is 0.685600\n",
      "Epoch 48, CIFAR-10 Batch 5:  Cost is 0.112687, Accuracy is 0.682800\n",
      "Epoch 49, CIFAR-10 Batch 1:  Cost is 0.125327, Accuracy is 0.685800\n"
     ]
    },
    {
     "name": "stdout",
     "output_type": "stream",
     "text": [
      "Epoch 49, CIFAR-10 Batch 2:  Cost is 0.089059, Accuracy is 0.683000\n",
      "Epoch 49, CIFAR-10 Batch 3:  Cost is 0.091765, Accuracy is 0.674200\n",
      "Epoch 49, CIFAR-10 Batch 4:  Cost is 0.089663, Accuracy is 0.687000\n",
      "Epoch 49, CIFAR-10 Batch 5:  Cost is 0.112206, Accuracy is 0.685600\n",
      "Epoch 50, CIFAR-10 Batch 1:  Cost is 0.123138, Accuracy is 0.683400\n",
      "Epoch 50, CIFAR-10 Batch 2:  Cost is 0.099310, Accuracy is 0.684600\n",
      "Epoch 50, CIFAR-10 Batch 3:  Cost is 0.076686, Accuracy is 0.688200\n",
      "Epoch 50, CIFAR-10 Batch 4:  Cost is 0.098947, Accuracy is 0.683800\n",
      "Epoch 50, CIFAR-10 Batch 5:  Cost is 0.116546, Accuracy is 0.692000\n"
     ]
    }
   ],
   "source": [
    "\"\"\"\n",
    "DON'T MODIFY ANYTHING IN THIS CELL\n",
    "\"\"\"\n",
    "save_model_path = './image_classification'\n",
    "\n",
    "print('Training...')\n",
    "with tf.Session() as sess:\n",
    "    # Initializing the variables\n",
    "    sess.run(tf.global_variables_initializer())\n",
    "    \n",
    "    # Training cycle\n",
    "    for epoch in range(epochs):\n",
    "        # Loop over all batches\n",
    "        n_batches = 5\n",
    "        for batch_i in range(1, n_batches + 1):\n",
    "            for batch_features, batch_labels in helper.load_preprocess_training_batch(batch_i, batch_size):\n",
    "                train_neural_network(sess, optimizer, keep_probability, batch_features, batch_labels)\n",
    "            print('Epoch {:>2}, CIFAR-10 Batch {}:  '.format(epoch + 1, batch_i), end='')\n",
    "            print_stats(sess, batch_features, batch_labels, cost, accuracy)\n",
    "            \n",
    "    # Save Model\n",
    "    saver = tf.train.Saver()\n",
    "    save_path = saver.save(sess, save_model_path)"
   ]
  },
  {
   "cell_type": "markdown",
   "metadata": {},
   "source": [
    "# Checkpoint\n",
    "The model has been saved to disk.\n",
    "## Test Model\n",
    "Test your model against the test dataset.  This will be your final accuracy. You should have an accuracy greater than 50%. If you don't, keep tweaking the model architecture and parameters."
   ]
  },
  {
   "cell_type": "code",
   "execution_count": 327,
   "metadata": {},
   "outputs": [
    {
     "name": "stdout",
     "output_type": "stream",
     "text": [
      "Testing Accuracy: 0.6838176751592356\n",
      "\n"
     ]
    },
    {
     "data": {
      "image/png": "[encoded data removed]",
      "text/plain": [
       "<matplotlib.figure.Figure at 0x1187cf748>"
      ]
     },
     "metadata": {
      "image/png": {
       "height": 319,
       "width": 355
      }
     },
     "output_type": "display_data"
    }
   ],
   "source": [
    "\"\"\"\n",
    "DON'T MODIFY ANYTHING IN THIS CELL\n",
    "\"\"\"\n",
    "%matplotlib inline\n",
    "%config InlineBackend.figure_format = 'retina'\n",
    "\n",
    "import tensorflow as tf\n",
    "import pickle\n",
    "import helper\n",
    "import random\n",
    "\n",
    "# Set batch size if not already set\n",
    "try:\n",
    "    if batch_size:\n",
    "        pass\n",
    "except NameError:\n",
    "    batch_size = 64\n",
    "\n",
    "save_model_path = './image_classification'\n",
    "n_samples = 4\n",
    "top_n_predictions = 3\n",
    "\n",
    "def test_model():\n",
    "    \"\"\"\n",
    "    Test the saved model against the test dataset\n",
    "    \"\"\"\n",
    "\n",
    "    test_features, test_labels = pickle.load(open('preprocess_test.p', mode='rb'))\n",
    "    loaded_graph = tf.Graph()\n",
    "\n",
    "    with tf.Session(graph=loaded_graph) as sess:\n",
    "        # Load model\n",
    "        loader = tf.train.import_meta_graph(save_model_path + '.meta')\n",
    "        loader.restore(sess, save_model_path)\n",
    "\n",
    "        # Get Tensors from loaded model\n",
    "        loaded_x = loaded_graph.get_tensor_by_name('x:0')\n",
    "        loaded_y = loaded_graph.get_tensor_by_name('y:0')\n",
    "        loaded_keep_prob = loaded_graph.get_tensor_by_name('keep_prob:0')\n",
    "        loaded_logits = loaded_graph.get_tensor_by_name('logits:0')\n",
    "        loaded_acc = loaded_graph.get_tensor_by_name('accuracy:0')\n",
    "        \n",
    "        # Get accuracy in batches for memory limitations\n",
    "        test_batch_acc_total = 0\n",
    "        test_batch_count = 0\n",
    "        \n",
    "        for test_feature_batch, test_label_batch in helper.batch_features_labels(test_features, test_labels, batch_size):\n",
    "            test_batch_acc_total += sess.run(\n",
    "                loaded_acc,\n",
    "                feed_dict={loaded_x: test_feature_batch, loaded_y: test_label_batch, loaded_keep_prob: 1.0})\n",
    "            test_batch_count += 1\n",
    "\n",
    "        print('Testing Accuracy: {}\\n'.format(test_batch_acc_total/test_batch_count))\n",
    "\n",
    "        # Print Random Samples\n",
    "        random_test_features, random_test_labels = tuple(zip(*random.sample(list(zip(test_features, test_labels)), n_samples)))\n",
    "        random_test_predictions = sess.run(\n",
    "            tf.nn.top_k(tf.nn.softmax(loaded_logits), top_n_predictions),\n",
    "            feed_dict={loaded_x: random_test_features, loaded_y: random_test_labels, loaded_keep_prob: 1.0})\n",
    "        helper.display_image_predictions(random_test_features, random_test_labels, random_test_predictions)\n",
    "\n",
    "\n",
    "test_model()"
   ]
  },
  {
   "cell_type": "markdown",
   "metadata": {},
   "source": [
    "## Why 50-80% Accuracy?\n",
    "You might be wondering why you can't get an accuracy any higher. First things first, 50% isn't bad for a simple CNN.  Pure guessing would get you 10% accuracy. However, you might notice people are getting scores [well above 80%](http://rodrigob.github.io/are_we_there_yet/build/classification_datasets_results.html#43494641522d3130).  That's because we haven't taught you all there is to know about neural networks. We still need to cover a few more techniques.\n",
    "## Submitting This Project\n",
    "When submitting this project, make sure to run all the cells before saving the notebook.  Save the notebook file as \"dlnd_image_classification.ipynb\" and save it as a HTML file under \"File\" -> \"Download as\".  Include the \"helper.py\" and \"problem_unittests.py\" files in your submission."
   ]
  }
 ],
 "metadata": {
  "kernelspec": {
   "display_name": "Python 3",
   "language": "python",
   "name": "python3"
  },
  "language_info": {
   "codemirror_mode": {
    "name": "ipython",
    "version": 3
   },
   "file_extension": ".py",
   "mimetype": "text/x-python",
   "name": "python",
   "nbconvert_exporter": "python",
   "pygments_lexer": "ipython3",
   "version": "3.5.3"
  }
 },
 "nbformat": 4,
 "nbformat_minor": 1
}
